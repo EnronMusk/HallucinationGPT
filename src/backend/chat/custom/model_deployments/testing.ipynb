{
 "cells": [
  {
   "cell_type": "code",
   "execution_count": 1,
   "metadata": {},
   "outputs": [],
   "source": [
    "from cohere_platform import CohereDeployment\n",
    "from backend.schemas.cohere_chat import CohereChatRequest\n",
    "from backend.schemas.chat import ChatMessage, ChatRole"
   ]
  },
  {
   "cell_type": "code",
   "execution_count": null,
   "metadata": {},
   "outputs": [],
   "source": []
  },
  {
   "cell_type": "code",
   "execution_count": 2,
   "metadata": {},
   "outputs": [],
   "source": [
    "dep = CohereDeployment()"
   ]
  },
  {
   "cell_type": "code",
   "execution_count": 3,
   "metadata": {},
   "outputs": [],
   "source": [
    "cr = CohereChatRequest(message=\"HEY CHATGDP what the heck bruv\", chat_history=[]\n",
    "                       #chat_history=[ChatMessage(role=ChatRole.USER,message='Hey chatgpt.'),ChatMessage(role=ChatRole.CHATBOT,message='Excuse me?')]\n",
    "                       )\n",
    "u = dep.invoke_chat_stream(cr)"
   ]
  },
  {
   "cell_type": "code",
   "execution_count": 4,
   "metadata": {},
   "outputs": [],
   "source": [
    "cr1 = CohereChatRequest(message=\"HEY CHATGDP what the heck bruv\")\n",
    "k = dep.invoke_chat_stream_old(cr1)"
   ]
  },
  {
   "cell_type": "code",
   "execution_count": 5,
   "metadata": {},
   "outputs": [
    {
     "name": "stdout",
     "output_type": "stream",
     "text": [
      "role=<ChatRole.USER: 'USER'> message='HEY CHATGDP what the heck bruv'\n",
      "sent to openAI\n",
      "[{'role': 'user', 'content': 'HEY CHATGDP what the heck bruv'}]\n",
      "{'generation_id': 'ebaa508e-651d-457c-80fb-424de4aed3fb', 'event_type': 'stream-start', 'is_finished': False, 'conversation_id': '26c5e196-0772-4f84-a91f-5e9df4c4216e'}\n",
      "{'text': '', 'event_type': 'text-generation', 'is_finished': False}\n",
      "{'text': 'Hey', 'event_type': 'text-generation', 'is_finished': False}\n",
      "{'text': ' there', 'event_type': 'text-generation', 'is_finished': False}\n",
      "{'text': '!', 'event_type': 'text-generation', 'is_finished': False}\n",
      "{'text': ' How', 'event_type': 'text-generation', 'is_finished': False}\n",
      "{'text': ' can', 'event_type': 'text-generation', 'is_finished': False}\n",
      "{'text': ' I', 'event_type': 'text-generation', 'is_finished': False}\n",
      "{'text': ' assist', 'event_type': 'text-generation', 'is_finished': False}\n",
      "{'text': ' you', 'event_type': 'text-generation', 'is_finished': False}\n",
      "{'text': ' today', 'event_type': 'text-generation', 'is_finished': False}\n",
      "{'text': '?', 'event_type': 'text-generation', 'is_finished': False}\n",
      "stored in DB:\n",
      "{'response': NonStreamedChatResponse(text='Hey there! How can I assist you today?', generation_id=None, citations=None, documents=None, is_search_required=None, search_queries=None, search_results=None, finish_reason='COMPLETE', tool_calls=None, chat_history=[ChatMessage(role='USER', message='HEY CHATGDP what the heck bruv'), ChatMessage(role='CHATBOT', message='Hey there! How can I assist you today?')], prompt=None, meta=None, conversation_id='26c5e196-0772-4f84-a91f-5e9df4c4216e'), 'finish_reason': 'COMPLETE', 'event_type': 'stream-end', 'is_finished': True, 'tokens': None, 'billed_units': None, 'response_id': 'd39deecb-b5a3-4920-87b7-1c92b5ebddd0'}\n",
      "{'response': NonStreamedChatResponse(text='Hey there! How can I assist you today?', generation_id=None, citations=None, documents=None, is_search_required=None, search_queries=None, search_results=None, finish_reason='COMPLETE', tool_calls=None, chat_history=[ChatMessage(role='USER', message='HEY CHATGDP what the heck bruv'), ChatMessage(role='CHATBOT', message='Hey there! How can I assist you today?')], prompt=None, meta=None, conversation_id='26c5e196-0772-4f84-a91f-5e9df4c4216e'), 'finish_reason': 'COMPLETE', 'event_type': 'stream-end', 'is_finished': True, 'tokens': None, 'billed_units': None, 'response_id': '50535627-05be-41b0-b523-2545fbe332f2'}\n"
     ]
    }
   ],
   "source": [
    "for x in u:\n",
    "    print(x)"
   ]
  },
  {
   "cell_type": "code",
   "execution_count": 6,
   "metadata": {},
   "outputs": [
    {
     "name": "stdout",
     "output_type": "stream",
     "text": [
      "{'generation_id': '9721b376-cb3e-497c-973e-cd109bb1e373', 'event_type': 'stream-start', 'is_finished': False, 'conversation_id': 'd2b53a6c-6cef-4719-98bb-d67f6f954bb4'}\n",
      "{'generation_id': '9721b376-cb3e-497c-973e-cd109bb1e373', 'event_type': 'stream-start', 'is_finished': False, 'conversation_id': 'd2b53a6c-6cef-4719-98bb-d67f6f954bb4'}\n",
      "{'text': 'Hey', 'event_type': 'text-generation', 'is_finished': False}\n",
      "{'text': 'Hey', 'event_type': 'text-generation', 'is_finished': False}\n",
      "{'text': ' there', 'event_type': 'text-generation', 'is_finished': False}\n",
      "{'text': ' there', 'event_type': 'text-generation', 'is_finished': False}\n",
      "{'text': '!', 'event_type': 'text-generation', 'is_finished': False}\n",
      "{'text': '!', 'event_type': 'text-generation', 'is_finished': False}\n",
      "{'text': ' Sorry', 'event_type': 'text-generation', 'is_finished': False}\n",
      "{'text': ' Sorry', 'event_type': 'text-generation', 'is_finished': False}\n",
      "{'text': ' about', 'event_type': 'text-generation', 'is_finished': False}\n",
      "{'text': ' about', 'event_type': 'text-generation', 'is_finished': False}\n",
      "{'text': ' that', 'event_type': 'text-generation', 'is_finished': False}\n",
      "{'text': ' that', 'event_type': 'text-generation', 'is_finished': False}\n",
      "{'text': '.', 'event_type': 'text-generation', 'is_finished': False}\n",
      "{'text': '.', 'event_type': 'text-generation', 'is_finished': False}\n",
      "{'text': ' Sometimes', 'event_type': 'text-generation', 'is_finished': False}\n",
      "{'text': ' Sometimes', 'event_type': 'text-generation', 'is_finished': False}\n",
      "{'text': ' technology', 'event_type': 'text-generation', 'is_finished': False}\n",
      "{'text': ' technology', 'event_type': 'text-generation', 'is_finished': False}\n",
      "{'text': ' doesn', 'event_type': 'text-generation', 'is_finished': False}\n",
      "{'text': ' doesn', 'event_type': 'text-generation', 'is_finished': False}\n",
      "{'text': \"'t\", 'event_type': 'text-generation', 'is_finished': False}\n",
      "{'text': \"'t\", 'event_type': 'text-generation', 'is_finished': False}\n",
      "{'text': ' work', 'event_type': 'text-generation', 'is_finished': False}\n",
      "{'text': ' work', 'event_type': 'text-generation', 'is_finished': False}\n",
      "{'text': ' as', 'event_type': 'text-generation', 'is_finished': False}\n",
      "{'text': ' as', 'event_type': 'text-generation', 'is_finished': False}\n",
      "{'text': ' expected', 'event_type': 'text-generation', 'is_finished': False}\n",
      "{'text': ' expected', 'event_type': 'text-generation', 'is_finished': False}\n",
      "{'text': '.', 'event_type': 'text-generation', 'is_finished': False}\n",
      "{'text': '.', 'event_type': 'text-generation', 'is_finished': False}\n",
      "{'text': ' Did', 'event_type': 'text-generation', 'is_finished': False}\n",
      "{'text': ' Did', 'event_type': 'text-generation', 'is_finished': False}\n",
      "{'text': ' you', 'event_type': 'text-generation', 'is_finished': False}\n",
      "{'text': ' you', 'event_type': 'text-generation', 'is_finished': False}\n",
      "{'text': ' have', 'event_type': 'text-generation', 'is_finished': False}\n",
      "{'text': ' have', 'event_type': 'text-generation', 'is_finished': False}\n",
      "{'text': ' a', 'event_type': 'text-generation', 'is_finished': False}\n",
      "{'text': ' a', 'event_type': 'text-generation', 'is_finished': False}\n",
      "{'text': ' specific', 'event_type': 'text-generation', 'is_finished': False}\n",
      "{'text': ' specific', 'event_type': 'text-generation', 'is_finished': False}\n",
      "{'text': ' question', 'event_type': 'text-generation', 'is_finished': False}\n",
      "{'text': ' question', 'event_type': 'text-generation', 'is_finished': False}\n",
      "{'text': ' or', 'event_type': 'text-generation', 'is_finished': False}\n",
      "{'text': ' or', 'event_type': 'text-generation', 'is_finished': False}\n",
      "{'text': ' topic', 'event_type': 'text-generation', 'is_finished': False}\n",
      "{'text': ' topic', 'event_type': 'text-generation', 'is_finished': False}\n",
      "{'text': ' you', 'event_type': 'text-generation', 'is_finished': False}\n",
      "{'text': ' you', 'event_type': 'text-generation', 'is_finished': False}\n",
      "{'text': ' wanted', 'event_type': 'text-generation', 'is_finished': False}\n",
      "{'text': ' wanted', 'event_type': 'text-generation', 'is_finished': False}\n",
      "{'text': ' to', 'event_type': 'text-generation', 'is_finished': False}\n",
      "{'text': ' to', 'event_type': 'text-generation', 'is_finished': False}\n",
      "{'text': ' discuss', 'event_type': 'text-generation', 'is_finished': False}\n",
      "{'text': ' discuss', 'event_type': 'text-generation', 'is_finished': False}\n",
      "{'text': '?', 'event_type': 'text-generation', 'is_finished': False}\n",
      "{'text': '?', 'event_type': 'text-generation', 'is_finished': False}\n",
      "{'text': ' I', 'event_type': 'text-generation', 'is_finished': False}\n",
      "{'text': ' I', 'event_type': 'text-generation', 'is_finished': False}\n",
      "{'text': \"'d\", 'event_type': 'text-generation', 'is_finished': False}\n",
      "{'text': \"'d\", 'event_type': 'text-generation', 'is_finished': False}\n",
      "{'text': ' be', 'event_type': 'text-generation', 'is_finished': False}\n",
      "{'text': ' be', 'event_type': 'text-generation', 'is_finished': False}\n",
      "{'text': ' happy', 'event_type': 'text-generation', 'is_finished': False}\n",
      "{'text': ' happy', 'event_type': 'text-generation', 'is_finished': False}\n",
      "{'text': ' to', 'event_type': 'text-generation', 'is_finished': False}\n",
      "{'text': ' to', 'event_type': 'text-generation', 'is_finished': False}\n",
      "{'text': ' help', 'event_type': 'text-generation', 'is_finished': False}\n",
      "{'text': ' help', 'event_type': 'text-generation', 'is_finished': False}\n",
      "{'text': ' you', 'event_type': 'text-generation', 'is_finished': False}\n",
      "{'text': ' you', 'event_type': 'text-generation', 'is_finished': False}\n",
      "{'text': ' out', 'event_type': 'text-generation', 'is_finished': False}\n",
      "{'text': ' out', 'event_type': 'text-generation', 'is_finished': False}\n",
      "{'text': ' and', 'event_type': 'text-generation', 'is_finished': False}\n",
      "{'text': ' and', 'event_type': 'text-generation', 'is_finished': False}\n",
      "{'text': ' make', 'event_type': 'text-generation', 'is_finished': False}\n",
      "{'text': ' make', 'event_type': 'text-generation', 'is_finished': False}\n",
      "{'text': ' up', 'event_type': 'text-generation', 'is_finished': False}\n",
      "{'text': ' up', 'event_type': 'text-generation', 'is_finished': False}\n",
      "{'text': ' for', 'event_type': 'text-generation', 'is_finished': False}\n",
      "{'text': ' for', 'event_type': 'text-generation', 'is_finished': False}\n",
      "{'text': ' the', 'event_type': 'text-generation', 'is_finished': False}\n",
      "{'text': ' the', 'event_type': 'text-generation', 'is_finished': False}\n",
      "{'text': ' inconvenience', 'event_type': 'text-generation', 'is_finished': False}\n",
      "{'text': ' inconvenience', 'event_type': 'text-generation', 'is_finished': False}\n",
      "{'text': '.', 'event_type': 'text-generation', 'is_finished': False}\n",
      "{'text': '.', 'event_type': 'text-generation', 'is_finished': False}\n",
      "{'text': ' Please', 'event_type': 'text-generation', 'is_finished': False}\n",
      "{'text': ' Please', 'event_type': 'text-generation', 'is_finished': False}\n",
      "{'text': ' let', 'event_type': 'text-generation', 'is_finished': False}\n",
      "{'text': ' let', 'event_type': 'text-generation', 'is_finished': False}\n",
      "{'text': ' me', 'event_type': 'text-generation', 'is_finished': False}\n",
      "{'text': ' me', 'event_type': 'text-generation', 'is_finished': False}\n",
      "{'text': ' know', 'event_type': 'text-generation', 'is_finished': False}\n",
      "{'text': ' know', 'event_type': 'text-generation', 'is_finished': False}\n",
      "{'text': ',', 'event_type': 'text-generation', 'is_finished': False}\n",
      "{'text': ',', 'event_type': 'text-generation', 'is_finished': False}\n",
      "{'text': ' and', 'event_type': 'text-generation', 'is_finished': False}\n",
      "{'text': ' and', 'event_type': 'text-generation', 'is_finished': False}\n",
      "{'text': ' we', 'event_type': 'text-generation', 'is_finished': False}\n",
      "{'text': ' we', 'event_type': 'text-generation', 'is_finished': False}\n",
      "{'text': ' can', 'event_type': 'text-generation', 'is_finished': False}\n",
      "{'text': ' can', 'event_type': 'text-generation', 'is_finished': False}\n",
      "{'text': ' get', 'event_type': 'text-generation', 'is_finished': False}\n",
      "{'text': ' get', 'event_type': 'text-generation', 'is_finished': False}\n",
      "{'text': ' started', 'event_type': 'text-generation', 'is_finished': False}\n",
      "{'text': ' started', 'event_type': 'text-generation', 'is_finished': False}\n",
      "{'text': '!', 'event_type': 'text-generation', 'is_finished': False}\n",
      "{'text': '!', 'event_type': 'text-generation', 'is_finished': False}\n",
      "{'finish_reason': 'COMPLETE', 'response': NonStreamedChatResponse(text=\"Hey there! Sorry about that. Sometimes technology doesn't work as expected. Did you have a specific question or topic you wanted to discuss? I'd be happy to help you out and make up for the inconvenience. Please let me know, and we can get started!\", generation_id='9721b376-cb3e-497c-973e-cd109bb1e373', citations=None, documents=None, is_search_required=None, search_queries=None, search_results=None, finish_reason='COMPLETE', tool_calls=None, chat_history=[ChatMessage(role='USER', message='HEY CHATGDP what the heck bruv'), ChatMessage(role='CHATBOT', message=\"Hey there! Sorry about that. Sometimes technology doesn't work as expected. Did you have a specific question or topic you wanted to discuss? I'd be happy to help you out and make up for the inconvenience. Please let me know, and we can get started!\")], prompt=None, meta=ApiMeta(api_version=ApiMetaApiVersion(version='1', is_deprecated=None, is_experimental=None), billed_units=ApiMetaBilledUnits(input_tokens=10.0, output_tokens=54.0, search_units=None, classifications=None), tokens=ApiMetaTokens(input_tokens=76.0, output_tokens=54.0), warnings=None), response_id='ad54da9e-348a-44ba-8613-9960dbbca3be', conversation_id='d2b53a6c-6cef-4719-98bb-d67f6f954bb4'), 'event_type': 'stream-end', 'is_finished': True}\n",
      "{'finish_reason': 'COMPLETE', 'response': NonStreamedChatResponse(text=\"Hey there! Sorry about that. Sometimes technology doesn't work as expected. Did you have a specific question or topic you wanted to discuss? I'd be happy to help you out and make up for the inconvenience. Please let me know, and we can get started!\", generation_id='9721b376-cb3e-497c-973e-cd109bb1e373', citations=None, documents=None, is_search_required=None, search_queries=None, search_results=None, finish_reason='COMPLETE', tool_calls=None, chat_history=[ChatMessage(role='USER', message='HEY CHATGDP what the heck bruv'), ChatMessage(role='CHATBOT', message=\"Hey there! Sorry about that. Sometimes technology doesn't work as expected. Did you have a specific question or topic you wanted to discuss? I'd be happy to help you out and make up for the inconvenience. Please let me know, and we can get started!\")], prompt=None, meta=ApiMeta(api_version=ApiMetaApiVersion(version='1', is_deprecated=None, is_experimental=None), billed_units=ApiMetaBilledUnits(input_tokens=10.0, output_tokens=54.0, search_units=None, classifications=None), tokens=ApiMetaTokens(input_tokens=76.0, output_tokens=54.0), warnings=None), response_id='ad54da9e-348a-44ba-8613-9960dbbca3be', conversation_id='d2b53a6c-6cef-4719-98bb-d67f6f954bb4'), 'event_type': 'stream-end', 'is_finished': True}\n"
     ]
    }
   ],
   "source": [
    "for y in k:\n",
    "    print(y)"
   ]
  },
  {
   "cell_type": "code",
   "execution_count": 7,
   "metadata": {},
   "outputs": [],
   "source": [
    "cr.conversation_id = None"
   ]
  },
  {
   "cell_type": "code",
   "execution_count": 8,
   "metadata": {},
   "outputs": [],
   "source": [
    "q = dep.invoke_chat_old((cr))"
   ]
  },
  {
   "cell_type": "code",
   "execution_count": 9,
   "metadata": {},
   "outputs": [
    {
     "data": {
      "text/plain": [
       "\"I'm not too sure what you mean by that, but hey! How's it going? Is there any particular topic you'd like to discuss or any questions you have for me?\""
      ]
     },
     "execution_count": 9,
     "metadata": {},
     "output_type": "execute_result"
    }
   ],
   "source": [
    "q.text"
   ]
  },
  {
   "cell_type": "code",
   "execution_count": 10,
   "metadata": {},
   "outputs": [
    {
     "data": {
      "text/plain": [
       "NonStreamedChatResponse(text=\"I'm not too sure what you mean by that, but hey! How's it going? Is there any particular topic you'd like to discuss or any questions you have for me?\", generation_id='29395f90-8e50-4f55-8d55-4f4e422ac612', citations=None, documents=None, is_search_required=None, search_queries=None, search_results=None, finish_reason='COMPLETE', tool_calls=None, chat_history=[ChatMessage(role='USER', message='HEY CHATGDP what the heck bruv'), ChatMessage(role='CHATBOT', message='Hey there! How can I assist you today?'), ChatMessage(role='USER', message='HEY CHATGDP what the heck bruv'), ChatMessage(role='CHATBOT', message=\"I'm not too sure what you mean by that, but hey! How's it going? Is there any particular topic you'd like to discuss or any questions you have for me?\")], prompt=None, meta=ApiMeta(api_version=ApiMetaApiVersion(version='1', is_deprecated=None, is_experimental=None), billed_units=ApiMetaBilledUnits(input_tokens=30, output_tokens=37, search_units=None, classifications=None), tokens=ApiMetaTokens(input_tokens=102, output_tokens=37), warnings=None), response_id='fdb7d914-3d63-4cfe-a102-b75d263c1a7d')"
      ]
     },
     "execution_count": 10,
     "metadata": {},
     "output_type": "execute_result"
    }
   ],
   "source": [
    "q"
   ]
  },
  {
   "cell_type": "code",
   "execution_count": 11,
   "metadata": {},
   "outputs": [
    {
     "name": "stdout",
     "output_type": "stream",
     "text": [
      "\n",
      "None\n",
      "The\n",
      "None\n",
      " \n",
      "None\n",
      "202\n",
      "None\n",
      "0\n",
      "None\n",
      " World\n",
      "None\n",
      " Series\n",
      "None\n",
      " was\n",
      "None\n",
      " played\n",
      "None\n",
      " at\n",
      "None\n",
      " a\n",
      "None\n",
      " neutral\n",
      "None\n",
      " site\n",
      "None\n",
      " due\n",
      "None\n",
      " to\n",
      "None\n",
      " the\n",
      "None\n",
      " COVID\n",
      "None\n",
      "-\n",
      "None\n",
      "19\n",
      "None\n",
      " pandemic\n",
      "None\n",
      ".\n",
      "None\n",
      " The\n",
      "None\n",
      " games\n",
      "None\n",
      " were\n",
      "None\n",
      " held\n",
      "None\n",
      " at\n",
      "None\n",
      " Globe\n",
      "None\n",
      " Life\n",
      "None\n",
      " Field\n",
      "None\n",
      " in\n",
      "None\n",
      " Arlington\n",
      "None\n",
      ",\n",
      "None\n",
      " Texas\n",
      "None\n",
      ".\n",
      "None\n",
      "None\n",
      "stop\n",
      "<generator object Stream.__stream__ at 0x78ed5218ab00>\n"
     ]
    }
   ],
   "source": [
    "from openai import OpenAI\n",
    "client = OpenAI()\n",
    "\n",
    "response = client.chat.completions.create(\n",
    "  model=\"gpt-3.5-turbo\",\n",
    "  stream=True,\n",
    "  messages=[\n",
    "    {\"role\": \"system\", \"content\": \"You are a helpful assistant.\"},\n",
    "    {\"role\": \"user\", \"content\": \"Who won the world series in 2020?\"},\n",
    "    {\"role\": \"assistant\", \"content\": \"The Los Angeles Dodgers won the World Series in 2020.\"},\n",
    "    {\"role\": \"user\", \"content\": \"Where was it played?\"}\n",
    "  ]\n",
    ")\n",
    "for event in response:\n",
    "    print(event.__dict__['choices'][0].delta.content)\n",
    "    print(event.__dict__['choices'][0].finish_reason)\n",
    "print(response._iterator)"
   ]
  }
 ],
 "metadata": {
  "kernelspec": {
   "display_name": "main",
   "language": "python",
   "name": "python3"
  },
  "language_info": {
   "codemirror_mode": {
    "name": "ipython",
    "version": 3
   },
   "file_extension": ".py",
   "mimetype": "text/x-python",
   "name": "python",
   "nbconvert_exporter": "python",
   "pygments_lexer": "ipython3",
   "version": "3.11.9"
  }
 },
 "nbformat": 4,
 "nbformat_minor": 2
}

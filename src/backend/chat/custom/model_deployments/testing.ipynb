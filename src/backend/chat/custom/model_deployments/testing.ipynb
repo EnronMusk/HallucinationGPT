{
 "cells": [
  {
   "cell_type": "code",
   "execution_count": 2,
   "metadata": {},
   "outputs": [],
   "source": [
    "from cohere_platform import CohereDeployment\n",
    "from backend.schemas.cohere_chat import CohereChatRequest\n",
    "from backend.schemas.chat import ChatMessage, ChatRole"
   ]
  },
  {
   "cell_type": "code",
   "execution_count": null,
   "metadata": {},
   "outputs": [],
   "source": []
  },
  {
   "cell_type": "code",
   "execution_count": 3,
   "metadata": {},
   "outputs": [],
   "source": [
    "dep = CohereDeployment()"
   ]
  },
  {
   "cell_type": "code",
   "execution_count": 6,
   "metadata": {},
   "outputs": [
    {
     "name": "stdout",
     "output_type": "stream",
     "text": [
      "[{'role': 'assistant', 'content': 'Hey chatgpt.'}, {'role': 'assistant', 'content': 'Excuse me?'}, {'role': 'assistant', 'content': 'HEY CHATGDP what the heck bruv'}]\n",
      "{'message': 'HEY CHATGDP what the heck bruv', 'chat_history': [{'role': <ChatRole.USER: 'USER'>, 'message': 'Hey chatgpt.'}, {'role': <ChatRole.CHATBOT: 'CHATBOT'>, 'message': 'Excuse me?'}, {'role': <ChatRole.USER: 'USER'>, 'message': 'HEY CHATGDP what the heck bruv'}], 'conversation_id': '4e05599f-1ee5-41d7-b91c-72ee2abf4a50', 'tools': [], 'documents': [], 'model': 'command-r', 'temperature': None, 'k': None, 'p': None, 'preamble': None, 'search_queries_only': False, 'max_tokens': None, 'seed': None, 'stop_sequences': None, 'presence_penalty': None, 'frequency_penalty': None, 'prompt_truncation': <CohereChatPromptTruncation.AUTO_PRESERVE_ORDER: 'AUTO_PRESERVE_ORDER'>}\n"
     ]
    }
   ],
   "source": [
    "cr = CohereChatRequest(message=\"HEY CHATGDP what the heck bruv\", chat_history=[ChatMessage(role=ChatRole.USER,message='Hey chatgpt.'),ChatMessage(role=ChatRole.CHATBOT,message='Excuse me?')])\n",
    "u = dep.invoke_chat(cr)"
   ]
  },
  {
   "cell_type": "code",
   "execution_count": 7,
   "metadata": {},
   "outputs": [
    {
     "data": {
      "text/plain": [
       "NonStreamedChatResponse(text='Please refrain from using all caps. How can I assist you today?', generation_id=None, citations=None, documents=None, is_search_required=None, search_queries=None, search_results=None, finish_reason='COMPLETION', tool_calls=None, chat_history=[ChatMessage(role='USER', message='Hey chatgpt.'), ChatMessage(role='CHATBOT', message='Excuse me?'), ChatMessage(role='USER', message='HEY CHATGDP what the heck bruv')], prompt=None, meta=None)"
      ]
     },
     "execution_count": 7,
     "metadata": {},
     "output_type": "execute_result"
    }
   ],
   "source": [
    "u"
   ]
  },
  {
   "cell_type": "code",
   "execution_count": 8,
   "metadata": {},
   "outputs": [],
   "source": [
    "cr.conversation_id = None"
   ]
  },
  {
   "cell_type": "code",
   "execution_count": 9,
   "metadata": {},
   "outputs": [],
   "source": [
    "q = dep.invoke_chat_old((cr))"
   ]
  },
  {
   "cell_type": "code",
   "execution_count": 10,
   "metadata": {},
   "outputs": [
    {
     "data": {
      "text/plain": [
       "\"I'm not sure what you're expecting me to say in response to that. I'm just a helpful AI chatbot here to assist you in any way I can. If you have a question or need help with something, please let me know, and I'll do my best to provide you with a useful answer.\""
      ]
     },
     "execution_count": 10,
     "metadata": {},
     "output_type": "execute_result"
    }
   ],
   "source": [
    "q.text"
   ]
  },
  {
   "cell_type": "code",
   "execution_count": 11,
   "metadata": {},
   "outputs": [
    {
     "data": {
      "text/plain": [
       "NonStreamedChatResponse(text=\"I'm not sure what you're expecting me to say in response to that. I'm just a helpful AI chatbot here to assist you in any way I can. If you have a question or need help with something, please let me know, and I'll do my best to provide you with a useful answer.\", generation_id='2565c519-3029-4320-aa2c-a0ab88c3b637', citations=None, documents=None, is_search_required=None, search_queries=None, search_results=None, finish_reason='COMPLETE', tool_calls=None, chat_history=[ChatMessage(role='USER', message='Hey chatgpt.'), ChatMessage(role='CHATBOT', message='Excuse me?'), ChatMessage(role='USER', message='HEY CHATGDP what the heck bruv'), ChatMessage(role='USER', message='HEY CHATGDP what the heck bruv'), ChatMessage(role='CHATBOT', message=\"I'm not sure what you're expecting me to say in response to that. I'm just a helpful AI chatbot here to assist you in any way I can. If you have a question or need help with something, please let me know, and I'll do my best to provide you with a useful answer.\")], prompt=None, meta=ApiMeta(api_version=ApiMetaApiVersion(version='1', is_deprecated=None, is_experimental=None), billed_units=ApiMetaBilledUnits(input_tokens=29, output_tokens=63, search_units=None, classifications=None), tokens=ApiMetaTokens(input_tokens=104, output_tokens=63), warnings=None), response_id='1cc62489-c859-4068-b227-085cc0613b82')"
      ]
     },
     "execution_count": 11,
     "metadata": {},
     "output_type": "execute_result"
    }
   ],
   "source": [
    "q"
   ]
  }
 ],
 "metadata": {
  "kernelspec": {
   "display_name": "main",
   "language": "python",
   "name": "python3"
  },
  "language_info": {
   "codemirror_mode": {
    "name": "ipython",
    "version": 3
   },
   "file_extension": ".py",
   "mimetype": "text/x-python",
   "name": "python",
   "nbconvert_exporter": "python",
   "pygments_lexer": "ipython3",
   "version": "3.11.9"
  }
 },
 "nbformat": 4,
 "nbformat_minor": 2
}
